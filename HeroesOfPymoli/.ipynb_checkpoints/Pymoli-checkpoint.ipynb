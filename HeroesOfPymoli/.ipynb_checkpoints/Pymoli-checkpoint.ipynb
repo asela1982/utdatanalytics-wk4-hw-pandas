{
 "cells": [
  {
   "cell_type": "markdown",
   "metadata": {},
   "source": [
    "## Option 1: Heroes of Pymoli\n",
    "\n",
    "![Fantasy](../Images/Fantasy.jpg)\n",
    "\n",
    "Congratulations! After a lot of hard work in the data munging mines, you've landed a job as Lead Analyst for an independent gaming company. You've been assigned the task of analyzing the data for their most recent fantasy game Heroes of Pymoli. \n",
    "\n",
    "Like many others in its genre, the game is free-to-play, but players are encouraged to purchase optional items that enhance their playing experience. As a first task, the company would like you to generate a report that breaks down the game's purchasing data into meaningful insights.\n",
    "\n",
    "Your final report should include each of the following:\n",
    "\n",
    "**Player Count**\n",
    "\n",
    "* Total Number of Players\n",
    "\n",
    "**Purchasing Analysis (Total)**\n",
    "\n",
    "* Number of Unique Items\n",
    "* Average Purchase Price\n",
    "* Total Number of Purchases\n",
    "* Total Revenue\n",
    "\n",
    "**Gender Demographics**\n",
    "\n",
    "* Percentage and Count of Male Players\n",
    "* Percentage and Count of Female Players\n",
    "* Percentage and Count of Other / Non-Disclosed\n",
    "\n",
    "**Purchasing Analysis (Gender)** \n",
    "\n",
    "* The below each broken by gender\n",
    "  * Purchase Count\n",
    "  * Average Purchase Price\n",
    "  * Total Purchase Value\n",
    "  * Normalized Totals\n",
    "\n",
    "**Age Demographics**\n",
    "\n",
    "* The below each broken into bins of 4 years (i.e. &lt;10, 10-14, 15-19, etc.) \n",
    "  * Purchase Count\n",
    "  * Average Purchase Price\n",
    "  * Total Purchase Value\n",
    "  * Normalized Totals\n",
    "\n",
    "**Top Spenders**\n",
    "\n",
    "* Identify the the top 5 spenders in the game by total purchase value, then list (in a table):\n",
    "  * SN\n",
    "  * Purchase Count\n",
    "  * Average Purchase Price\n",
    "  * Total Purchase Value\n",
    "\n",
    "**Most Popular Items**\n",
    "\n",
    "* Identify the 5 most popular items by purchase count, then list (in a table):\n",
    "  * Item ID\n",
    "  * Item Name\n",
    "  * Purchase Count\n",
    "  * Item Price\n",
    "  * Total Purchase Value\n",
    "\n",
    "**Most Profitable Items**\n",
    "\n",
    "* Identify the 5 most profitable items by total purchase value, then list (in a table):\n",
    "  * Item ID\n",
    "  * Item Name\n",
    "  * Purchase Count\n",
    "  * Item Price\n",
    "  * Total Purchase Value\n",
    "\n",
    "As final considerations:\n",
    "\n",
    "* Your script must work for both data-sets given.\n",
    "* You must use the Pandas Library and the Jupyter Notebook.\n",
    "* You must submit a link to your Jupyter Notebook with the viewable Data Frames. \n",
    "* You must include an exported markdown version of your Notebook called  `README.md` in your GitHub repository.  \n",
    "* You must include a written description of three observable trends based on the data. \n",
    "* See [Example Solution](HeroesOfPymoli_Example.pdf) for a reference on expected format. "
   ]
  },
  {
   "cell_type": "code",
   "execution_count": 333,
   "metadata": {
    "collapsed": true
   },
   "outputs": [],
   "source": [
    "#import the necessary libraries\n",
    "import os\n",
    "import pandas as pd\n",
    "import numpy as np\n",
    "import json"
   ]
  },
  {
   "cell_type": "code",
   "execution_count": 334,
   "metadata": {
    "collapsed": true
   },
   "outputs": [],
   "source": [
    "#derive the input file paths\n",
    "filepath = os.path.join(\"\",\"purchase_data.json\")"
   ]
  },
  {
   "cell_type": "code",
   "execution_count": 335,
   "metadata": {},
   "outputs": [],
   "source": [
    "#construct the requried dataframes for the two json files\n",
    "df = pd.read_json(filepath)"
   ]
  },
  {
   "cell_type": "code",
   "execution_count": 336,
   "metadata": {},
   "outputs": [
    {
     "data": {
      "text/html": [
       "<div>\n",
       "<style>\n",
       "    .dataframe thead tr:only-child th {\n",
       "        text-align: right;\n",
       "    }\n",
       "\n",
       "    .dataframe thead th {\n",
       "        text-align: left;\n",
       "    }\n",
       "\n",
       "    .dataframe tbody tr th {\n",
       "        vertical-align: top;\n",
       "    }\n",
       "</style>\n",
       "<table border=\"1\" class=\"dataframe\">\n",
       "  <thead>\n",
       "    <tr style=\"text-align: right;\">\n",
       "      <th></th>\n",
       "      <th>Age</th>\n",
       "      <th>Gender</th>\n",
       "      <th>Item ID</th>\n",
       "      <th>Item Name</th>\n",
       "      <th>Price</th>\n",
       "      <th>SN</th>\n",
       "    </tr>\n",
       "  </thead>\n",
       "  <tbody>\n",
       "    <tr>\n",
       "      <th>0</th>\n",
       "      <td>38</td>\n",
       "      <td>Male</td>\n",
       "      <td>165</td>\n",
       "      <td>Bone Crushing Silver Skewer</td>\n",
       "      <td>3.37</td>\n",
       "      <td>Aelalis34</td>\n",
       "    </tr>\n",
       "    <tr>\n",
       "      <th>1</th>\n",
       "      <td>21</td>\n",
       "      <td>Male</td>\n",
       "      <td>119</td>\n",
       "      <td>Stormbringer, Dark Blade of Ending Misery</td>\n",
       "      <td>2.32</td>\n",
       "      <td>Eolo46</td>\n",
       "    </tr>\n",
       "    <tr>\n",
       "      <th>2</th>\n",
       "      <td>34</td>\n",
       "      <td>Male</td>\n",
       "      <td>174</td>\n",
       "      <td>Primitive Blade</td>\n",
       "      <td>2.46</td>\n",
       "      <td>Assastnya25</td>\n",
       "    </tr>\n",
       "    <tr>\n",
       "      <th>3</th>\n",
       "      <td>21</td>\n",
       "      <td>Male</td>\n",
       "      <td>92</td>\n",
       "      <td>Final Critic</td>\n",
       "      <td>1.36</td>\n",
       "      <td>Pheusrical25</td>\n",
       "    </tr>\n",
       "    <tr>\n",
       "      <th>4</th>\n",
       "      <td>23</td>\n",
       "      <td>Male</td>\n",
       "      <td>63</td>\n",
       "      <td>Stormfury Mace</td>\n",
       "      <td>1.27</td>\n",
       "      <td>Aela59</td>\n",
       "    </tr>\n",
       "  </tbody>\n",
       "</table>\n",
       "</div>"
      ],
      "text/plain": [
       "   Age Gender  Item ID                                  Item Name  Price  \\\n",
       "0   38   Male      165                Bone Crushing Silver Skewer   3.37   \n",
       "1   21   Male      119  Stormbringer, Dark Blade of Ending Misery   2.32   \n",
       "2   34   Male      174                            Primitive Blade   2.46   \n",
       "3   21   Male       92                               Final Critic   1.36   \n",
       "4   23   Male       63                             Stormfury Mace   1.27   \n",
       "\n",
       "             SN  \n",
       "0     Aelalis34  \n",
       "1        Eolo46  \n",
       "2   Assastnya25  \n",
       "3  Pheusrical25  \n",
       "4        Aela59  "
      ]
     },
     "metadata": {},
     "output_type": "display_data"
    }
   ],
   "source": [
    "#display the head of both the dataframe\n",
    "display(df.head(5))"
   ]
  },
  {
   "cell_type": "code",
   "execution_count": 337,
   "metadata": {},
   "outputs": [
    {
     "data": {
      "text/plain": [
       "(780, 6)"
      ]
     },
     "metadata": {},
     "output_type": "display_data"
    }
   ],
   "source": [
    "#shape of the dataframes\n",
    "display(df.shape)"
   ]
  },
  {
   "cell_type": "code",
   "execution_count": 338,
   "metadata": {},
   "outputs": [
    {
     "name": "stdout",
     "output_type": "stream",
     "text": [
      "<class 'pandas.core.frame.DataFrame'>\n",
      "Int64Index: 780 entries, 0 to 779\n",
      "Data columns (total 6 columns):\n",
      "Age          780 non-null int64\n",
      "Gender       780 non-null object\n",
      "Item ID      780 non-null int64\n",
      "Item Name    780 non-null object\n",
      "Price        780 non-null float64\n",
      "SN           780 non-null object\n",
      "dtypes: float64(1), int64(2), object(3)\n",
      "memory usage: 42.7+ KB\n"
     ]
    }
   ],
   "source": [
    "#datatypes of the dataframe\n",
    "df.info()"
   ]
  },
  {
   "cell_type": "markdown",
   "metadata": {},
   "source": [
    "======================================================================================================================"
   ]
  },
  {
   "cell_type": "markdown",
   "metadata": {},
   "source": [
    "**Player Count**\n",
    "\n",
    "* Total Number of Players"
   ]
  },
  {
   "cell_type": "code",
   "execution_count": 339,
   "metadata": {},
   "outputs": [
    {
     "data": {
      "text/plain": [
       "573"
      ]
     },
     "execution_count": 339,
     "metadata": {},
     "output_type": "execute_result"
    }
   ],
   "source": [
    "# Total Number of Players\n",
    "df['SN'].nunique()"
   ]
  },
  {
   "cell_type": "code",
   "execution_count": 340,
   "metadata": {},
   "outputs": [
    {
     "data": {
      "text/html": [
       "<style  type=\"text/css\" >\n",
       "    #T_e921a3c6_c0ba_11e7_b4d3_186590d6f757row0_col0 {\n",
       "            background-color:  ash;\n",
       "            color:  blue;\n",
       "            border-color:  white;\n",
       "        }</style>  \n",
       "<table id=\"T_e921a3c6_c0ba_11e7_b4d3_186590d6f757\" > \n",
       "<thead>    <tr> \n",
       "        <th class=\"blank level0\" ></th> \n",
       "        <th class=\"col_heading level0 col0\" >Total Number of Players</th> \n",
       "    </tr></thead> \n",
       "<tbody>    <tr> \n",
       "        <th id=\"T_e921a3c6_c0ba_11e7_b4d3_186590d6f757\" class=\"row_heading level0 row0\" >0</th> \n",
       "        <td id=\"T_e921a3c6_c0ba_11e7_b4d3_186590d6f757row0_col0\" class=\"data row0 col0\" >573</td> \n",
       "    </tr></tbody> \n",
       "</table> "
      ],
      "text/plain": [
       "<pandas.io.formats.style.Styler at 0x1197d2160>"
      ]
     },
     "execution_count": 340,
     "metadata": {},
     "output_type": "execute_result"
    }
   ],
   "source": [
    "pd.DataFrame({\"Total Number of Players\":df['SN'].nunique()},index=[0]).style.set_properties(**{'background-color': 'ash',\n",
    "                           'color': 'blue',\n",
    "                           'border-color': 'white'})"
   ]
  },
  {
   "cell_type": "markdown",
   "metadata": {},
   "source": [
    "======================================================================================================================"
   ]
  },
  {
   "cell_type": "markdown",
   "metadata": {},
   "source": [
    "**Purchasing Analysis (Total)**\n",
    "\n",
    "* Number of Unique Items\n",
    "* Average Purchase Price\n",
    "* Total Number of Purchases\n",
    "* Total Revenue"
   ]
  },
  {
   "cell_type": "code",
   "execution_count": 341,
   "metadata": {},
   "outputs": [
    {
     "data": {
      "text/plain": [
       "183"
      ]
     },
     "execution_count": 341,
     "metadata": {},
     "output_type": "execute_result"
    }
   ],
   "source": [
    "# Number of Unique Items\n",
    "df['Item ID'].nunique()"
   ]
  },
  {
   "cell_type": "code",
   "execution_count": 342,
   "metadata": {},
   "outputs": [
    {
     "data": {
      "text/plain": [
       "2.931192307692303"
      ]
     },
     "execution_count": 342,
     "metadata": {},
     "output_type": "execute_result"
    }
   ],
   "source": [
    "# Average Purchase Price\n",
    "df['Price'].mean()"
   ]
  },
  {
   "cell_type": "code",
   "execution_count": 343,
   "metadata": {},
   "outputs": [
    {
     "data": {
      "text/plain": [
       "780"
      ]
     },
     "execution_count": 343,
     "metadata": {},
     "output_type": "execute_result"
    }
   ],
   "source": [
    "# Total Number of Purchases\n",
    "len(df)"
   ]
  },
  {
   "cell_type": "code",
   "execution_count": 344,
   "metadata": {},
   "outputs": [
    {
     "data": {
      "text/plain": [
       "2286.3299999999963"
      ]
     },
     "execution_count": 344,
     "metadata": {},
     "output_type": "execute_result"
    }
   ],
   "source": [
    "# Total Revenue\n",
    "df['Price'].sum()"
   ]
  },
  {
   "cell_type": "code",
   "execution_count": 345,
   "metadata": {},
   "outputs": [
    {
     "data": {
      "text/html": [
       "<style  type=\"text/css\" >\n",
       "    #T_e9271d7a_c0ba_11e7_bd1c_186590d6f757row0_col0 {\n",
       "            background-color:  ash;\n",
       "            color:  blue;\n",
       "            border-color:  white;\n",
       "        }    #T_e9271d7a_c0ba_11e7_bd1c_186590d6f757row0_col1 {\n",
       "            background-color:  ash;\n",
       "            color:  blue;\n",
       "            border-color:  white;\n",
       "        }    #T_e9271d7a_c0ba_11e7_bd1c_186590d6f757row0_col2 {\n",
       "            background-color:  ash;\n",
       "            color:  blue;\n",
       "            border-color:  white;\n",
       "        }    #T_e9271d7a_c0ba_11e7_bd1c_186590d6f757row0_col3 {\n",
       "            background-color:  ash;\n",
       "            color:  blue;\n",
       "            border-color:  white;\n",
       "        }</style>  \n",
       "<table id=\"T_e9271d7a_c0ba_11e7_bd1c_186590d6f757\" > \n",
       "<thead>    <tr> \n",
       "        <th class=\"blank level0\" ></th> \n",
       "        <th class=\"col_heading level0 col0\" >Average Purchase Price</th> \n",
       "        <th class=\"col_heading level0 col1\" >Number of Unique Items</th> \n",
       "        <th class=\"col_heading level0 col2\" >Total Number of Purchases</th> \n",
       "        <th class=\"col_heading level0 col3\" >Total Revenue</th> \n",
       "    </tr></thead> \n",
       "<tbody>    <tr> \n",
       "        <th id=\"T_e9271d7a_c0ba_11e7_bd1c_186590d6f757\" class=\"row_heading level0 row0\" >0</th> \n",
       "        <td id=\"T_e9271d7a_c0ba_11e7_bd1c_186590d6f757row0_col0\" class=\"data row0 col0\" >2.93119</td> \n",
       "        <td id=\"T_e9271d7a_c0ba_11e7_bd1c_186590d6f757row0_col1\" class=\"data row0 col1\" >183</td> \n",
       "        <td id=\"T_e9271d7a_c0ba_11e7_bd1c_186590d6f757row0_col2\" class=\"data row0 col2\" >780</td> \n",
       "        <td id=\"T_e9271d7a_c0ba_11e7_bd1c_186590d6f757row0_col3\" class=\"data row0 col3\" >2286.33</td> \n",
       "    </tr></tbody> \n",
       "</table> "
      ],
      "text/plain": [
       "<pandas.io.formats.style.Styler at 0x1197d6b00>"
      ]
     },
     "execution_count": 345,
     "metadata": {},
     "output_type": "execute_result"
    }
   ],
   "source": [
    "pd.DataFrame({\"Number of Unique Items\":df['Item ID'].nunique(),\n",
    "  \"Average Purchase Price\":df['Price'].mean(),\n",
    " \"Total Number of Purchases\":len(df),\n",
    "\"Total Revenue\":df['Price'].sum()},index=[0]).style.set_properties(**{'background-color': 'ash',\n",
    "                           'color': 'blue',\n",
    "                           'border-color': 'white'})"
   ]
  },
  {
   "cell_type": "markdown",
   "metadata": {},
   "source": [
    "======================================================================================================================"
   ]
  },
  {
   "cell_type": "markdown",
   "metadata": {},
   "source": [
    "**Gender Demographics**\n",
    "\n",
    "* Percentage and Count of Male Players\n",
    "* Percentage and Count of Female Players\n",
    "* Percentage and Count of Other / Non-Disclosed"
   ]
  },
  {
   "cell_type": "code",
   "execution_count": 346,
   "metadata": {},
   "outputs": [
    {
     "data": {
      "text/html": [
       "<div>\n",
       "<style>\n",
       "    .dataframe thead tr:only-child th {\n",
       "        text-align: right;\n",
       "    }\n",
       "\n",
       "    .dataframe thead th {\n",
       "        text-align: left;\n",
       "    }\n",
       "\n",
       "    .dataframe tbody tr th {\n",
       "        vertical-align: top;\n",
       "    }\n",
       "</style>\n",
       "<table border=\"1\" class=\"dataframe\">\n",
       "  <thead>\n",
       "    <tr style=\"text-align: right;\">\n",
       "      <th></th>\n",
       "      <th>Age</th>\n",
       "      <th>Gender</th>\n",
       "      <th>Item ID</th>\n",
       "      <th>Item Name</th>\n",
       "      <th>Price</th>\n",
       "      <th>SN</th>\n",
       "    </tr>\n",
       "  </thead>\n",
       "  <tbody>\n",
       "    <tr>\n",
       "      <th>431</th>\n",
       "      <td>37</td>\n",
       "      <td>Male</td>\n",
       "      <td>92</td>\n",
       "      <td>Final Critic</td>\n",
       "      <td>1.36</td>\n",
       "      <td>Aduephos78</td>\n",
       "    </tr>\n",
       "    <tr>\n",
       "      <th>308</th>\n",
       "      <td>37</td>\n",
       "      <td>Male</td>\n",
       "      <td>79</td>\n",
       "      <td>Alpha, Oath of Zeal</td>\n",
       "      <td>2.88</td>\n",
       "      <td>Aduephos78</td>\n",
       "    </tr>\n",
       "    <tr>\n",
       "      <th>377</th>\n",
       "      <td>37</td>\n",
       "      <td>Male</td>\n",
       "      <td>174</td>\n",
       "      <td>Primitive Blade</td>\n",
       "      <td>2.46</td>\n",
       "      <td>Aduephos78</td>\n",
       "    </tr>\n",
       "    <tr>\n",
       "      <th>647</th>\n",
       "      <td>26</td>\n",
       "      <td>Male</td>\n",
       "      <td>156</td>\n",
       "      <td>Soul-Forged Steel Shortsword</td>\n",
       "      <td>1.16</td>\n",
       "      <td>Aeduera68</td>\n",
       "    </tr>\n",
       "    <tr>\n",
       "      <th>721</th>\n",
       "      <td>26</td>\n",
       "      <td>Male</td>\n",
       "      <td>39</td>\n",
       "      <td>Betrayal, Whisper of Grieving Widows</td>\n",
       "      <td>2.35</td>\n",
       "      <td>Aeduera68</td>\n",
       "    </tr>\n",
       "    <tr>\n",
       "      <th>224</th>\n",
       "      <td>26</td>\n",
       "      <td>Male</td>\n",
       "      <td>106</td>\n",
       "      <td>Crying Steel Sickle</td>\n",
       "      <td>2.29</td>\n",
       "      <td>Aeduera68</td>\n",
       "    </tr>\n",
       "    <tr>\n",
       "      <th>529</th>\n",
       "      <td>38</td>\n",
       "      <td>Male</td>\n",
       "      <td>172</td>\n",
       "      <td>Blade of the Grave</td>\n",
       "      <td>1.69</td>\n",
       "      <td>Aelalis34</td>\n",
       "    </tr>\n",
       "    <tr>\n",
       "      <th>0</th>\n",
       "      <td>38</td>\n",
       "      <td>Male</td>\n",
       "      <td>165</td>\n",
       "      <td>Bone Crushing Silver Skewer</td>\n",
       "      <td>3.37</td>\n",
       "      <td>Aelalis34</td>\n",
       "    </tr>\n",
       "    <tr>\n",
       "      <th>359</th>\n",
       "      <td>20</td>\n",
       "      <td>Male</td>\n",
       "      <td>32</td>\n",
       "      <td>Orenmir</td>\n",
       "      <td>4.95</td>\n",
       "      <td>Aeliriam77</td>\n",
       "    </tr>\n",
       "    <tr>\n",
       "      <th>637</th>\n",
       "      <td>20</td>\n",
       "      <td>Male</td>\n",
       "      <td>18</td>\n",
       "      <td>Torchlight, Bond of Storms</td>\n",
       "      <td>1.77</td>\n",
       "      <td>Aeliriam77</td>\n",
       "    </tr>\n",
       "  </tbody>\n",
       "</table>\n",
       "</div>"
      ],
      "text/plain": [
       "     Age Gender  Item ID                             Item Name  Price  \\\n",
       "431   37   Male       92                          Final Critic   1.36   \n",
       "308   37   Male       79                   Alpha, Oath of Zeal   2.88   \n",
       "377   37   Male      174                       Primitive Blade   2.46   \n",
       "647   26   Male      156          Soul-Forged Steel Shortsword   1.16   \n",
       "721   26   Male       39  Betrayal, Whisper of Grieving Widows   2.35   \n",
       "224   26   Male      106                   Crying Steel Sickle   2.29   \n",
       "529   38   Male      172                    Blade of the Grave   1.69   \n",
       "0     38   Male      165           Bone Crushing Silver Skewer   3.37   \n",
       "359   20   Male       32                               Orenmir   4.95   \n",
       "637   20   Male       18            Torchlight, Bond of Storms   1.77   \n",
       "\n",
       "             SN  \n",
       "431  Aduephos78  \n",
       "308  Aduephos78  \n",
       "377  Aduephos78  \n",
       "647   Aeduera68  \n",
       "721   Aeduera68  \n",
       "224   Aeduera68  \n",
       "529   Aelalis34  \n",
       "0     Aelalis34  \n",
       "359  Aeliriam77  \n",
       "637  Aeliriam77  "
      ]
     },
     "metadata": {},
     "output_type": "display_data"
    },
    {
     "data": {
      "text/plain": [
       "375"
      ]
     },
     "metadata": {},
     "output_type": "display_data"
    }
   ],
   "source": [
    "# get all the duplicate rows\n",
    "display(df.loc[df.duplicated(\"SN\",keep=False),:].sort_values(\"SN\").head(10))\n",
    "display(len(df.loc[df.duplicated(\"SN\",keep=False),:]))"
   ]
  },
  {
   "cell_type": "code",
   "execution_count": 347,
   "metadata": {},
   "outputs": [
    {
     "data": {
      "text/plain": [
       "573"
      ]
     },
     "execution_count": 347,
     "metadata": {},
     "output_type": "execute_result"
    }
   ],
   "source": [
    "# drop the duplicate SN rows to get gender propotions\n",
    "df_unique = df.drop_duplicates(\"SN\", keep='first')\n",
    "len(df_unique)"
   ]
  },
  {
   "cell_type": "code",
   "execution_count": 348,
   "metadata": {},
   "outputs": [
    {
     "data": {
      "text/html": [
       "<style  type=\"text/css\" >\n",
       "    #T_e92e23f6_c0ba_11e7_a9cb_186590d6f757row0_col0 {\n",
       "            width:  10em;\n",
       "             height:  80%;\n",
       "            background:  linear-gradient(90deg,#05668D 100.0%, transparent 0%);\n",
       "        }    #T_e92e23f6_c0ba_11e7_a9cb_186590d6f757row0_col1 {\n",
       "            width:  10em;\n",
       "             height:  80%;\n",
       "            background:  linear-gradient(90deg,#05668D 100.0%, transparent 0%);\n",
       "        }    #T_e92e23f6_c0ba_11e7_a9cb_186590d6f757row1_col0 {\n",
       "            width:  10em;\n",
       "             height:  80%;\n",
       "            background:  linear-gradient(90deg,#05668D 20.1%, transparent 0%);\n",
       "        }    #T_e92e23f6_c0ba_11e7_a9cb_186590d6f757row1_col1 {\n",
       "            width:  10em;\n",
       "             height:  80%;\n",
       "            background:  linear-gradient(90deg,#05668D 20.1%, transparent 0%);\n",
       "        }    #T_e92e23f6_c0ba_11e7_a9cb_186590d6f757row2_col0 {\n",
       "            width:  10em;\n",
       "             height:  80%;\n",
       "        }    #T_e92e23f6_c0ba_11e7_a9cb_186590d6f757row2_col1 {\n",
       "            width:  10em;\n",
       "             height:  80%;\n",
       "        }</style>  \n",
       "<table id=\"T_e92e23f6_c0ba_11e7_a9cb_186590d6f757\" > \n",
       "<thead>    <tr> \n",
       "        <th class=\"blank level0\" ></th> \n",
       "        <th class=\"col_heading level0 col0\" >Percentage of players</th> \n",
       "        <th class=\"col_heading level0 col1\" >Total Count</th> \n",
       "    </tr></thead> \n",
       "<tbody>    <tr> \n",
       "        <th id=\"T_e92e23f6_c0ba_11e7_a9cb_186590d6f757\" class=\"row_heading level0 row0\" >Male</th> \n",
       "        <td id=\"T_e92e23f6_c0ba_11e7_a9cb_186590d6f757row0_col0\" class=\"data row0 col0\" >0.811518</td> \n",
       "        <td id=\"T_e92e23f6_c0ba_11e7_a9cb_186590d6f757row0_col1\" class=\"data row0 col1\" >465</td> \n",
       "    </tr>    <tr> \n",
       "        <th id=\"T_e92e23f6_c0ba_11e7_a9cb_186590d6f757\" class=\"row_heading level0 row1\" >Female</th> \n",
       "        <td id=\"T_e92e23f6_c0ba_11e7_a9cb_186590d6f757row1_col0\" class=\"data row1 col0\" >0.17452</td> \n",
       "        <td id=\"T_e92e23f6_c0ba_11e7_a9cb_186590d6f757row1_col1\" class=\"data row1 col1\" >100</td> \n",
       "    </tr>    <tr> \n",
       "        <th id=\"T_e92e23f6_c0ba_11e7_a9cb_186590d6f757\" class=\"row_heading level0 row2\" >Other / Non-Disclosed</th> \n",
       "        <td id=\"T_e92e23f6_c0ba_11e7_a9cb_186590d6f757row2_col0\" class=\"data row2 col0\" >0.0139616</td> \n",
       "        <td id=\"T_e92e23f6_c0ba_11e7_a9cb_186590d6f757row2_col1\" class=\"data row2 col1\" >8</td> \n",
       "    </tr></tbody> \n",
       "</table> "
      ],
      "text/plain": [
       "<pandas.io.formats.style.Styler at 0x1197d0e80>"
      ]
     },
     "execution_count": 348,
     "metadata": {},
     "output_type": "execute_result"
    }
   ],
   "source": [
    "pd.DataFrame({'Percentage of players' : df_unique['Gender'].value_counts(normalize=True),\n",
    "   'Total Count' : df_unique['Gender'].value_counts()}).style.bar(color='#05668D')"
   ]
  },
  {
   "cell_type": "markdown",
   "metadata": {},
   "source": [
    "======================================================================================================================"
   ]
  },
  {
   "cell_type": "markdown",
   "metadata": {},
   "source": [
    "**Purchasing Analysis (Gender)** \n",
    "\n",
    "* The below each broken by gender\n",
    "  * Purchase Count\n",
    "  * Average Purchase Price\n",
    "  * Total Purchase Value\n",
    "  * Normalized Totals (purchase total and divide it by the total count)"
   ]
  },
  {
   "cell_type": "code",
   "execution_count": 349,
   "metadata": {},
   "outputs": [
    {
     "data": {
      "text/html": [
       "<style  type=\"text/css\" >\n",
       "    #T_e932816c_c0ba_11e7_bf73_186590d6f757row0_col0 {\n",
       "            width:  10em;\n",
       "             height:  80%;\n",
       "        }    #T_e932816c_c0ba_11e7_bf73_186590d6f757row0_col1 {\n",
       "            width:  10em;\n",
       "             height:  80%;\n",
       "            background:  linear-gradient(90deg,#05668D 19.0%, transparent 0%);\n",
       "        }    #T_e932816c_c0ba_11e7_bf73_186590d6f757row0_col2 {\n",
       "            width:  10em;\n",
       "             height:  80%;\n",
       "            background:  linear-gradient(90deg,#05668D 20.1%, transparent 0%);\n",
       "        }    #T_e932816c_c0ba_11e7_bf73_186590d6f757row1_col0 {\n",
       "            width:  10em;\n",
       "             height:  80%;\n",
       "            background:  linear-gradient(90deg,#05668D 31.1%, transparent 0%);\n",
       "        }    #T_e932816c_c0ba_11e7_bf73_186590d6f757row1_col1 {\n",
       "            width:  10em;\n",
       "             height:  80%;\n",
       "            background:  linear-gradient(90deg,#05668D 100.0%, transparent 0%);\n",
       "        }    #T_e932816c_c0ba_11e7_bf73_186590d6f757row1_col2 {\n",
       "            width:  10em;\n",
       "             height:  80%;\n",
       "            background:  linear-gradient(90deg,#05668D 100.0%, transparent 0%);\n",
       "        }    #T_e932816c_c0ba_11e7_bf73_186590d6f757row2_col0 {\n",
       "            width:  10em;\n",
       "             height:  80%;\n",
       "            background:  linear-gradient(90deg,#05668D 100.0%, transparent 0%);\n",
       "        }    #T_e932816c_c0ba_11e7_bf73_186590d6f757row2_col1 {\n",
       "            width:  10em;\n",
       "             height:  80%;\n",
       "        }    #T_e932816c_c0ba_11e7_bf73_186590d6f757row2_col2 {\n",
       "            width:  10em;\n",
       "             height:  80%;\n",
       "        }</style>  \n",
       "<table id=\"T_e932816c_c0ba_11e7_bf73_186590d6f757\" > \n",
       "<thead>    <tr> \n",
       "        <th class=\"blank level0\" ></th> \n",
       "        <th class=\"col_heading level0 col0\" colspan=2>Price</th> \n",
       "        <th class=\"col_heading level0 col2\" >Item ID</th> \n",
       "    </tr>    <tr> \n",
       "        <th class=\"blank level1\" ></th> \n",
       "        <th class=\"col_heading level1 col0\" >mean</th> \n",
       "        <th class=\"col_heading level1 col1\" >sum</th> \n",
       "        <th class=\"col_heading level1 col2\" >count</th> \n",
       "    </tr>    <tr> \n",
       "        <th class=\"index_name level0\" >Gender</th> \n",
       "        <th class=\"blank\" ></th> \n",
       "        <th class=\"blank\" ></th> \n",
       "        <th class=\"blank\" ></th> \n",
       "    </tr></thead> \n",
       "<tbody>    <tr> \n",
       "        <th id=\"T_e932816c_c0ba_11e7_bf73_186590d6f757\" class=\"row_heading level0 row0\" >Female</th> \n",
       "        <td id=\"T_e932816c_c0ba_11e7_bf73_186590d6f757row0_col0\" class=\"data row0 col0\" >2.81551</td> \n",
       "        <td id=\"T_e932816c_c0ba_11e7_bf73_186590d6f757row0_col1\" class=\"data row0 col1\" >382.91</td> \n",
       "        <td id=\"T_e932816c_c0ba_11e7_bf73_186590d6f757row0_col2\" class=\"data row0 col2\" >136</td> \n",
       "    </tr>    <tr> \n",
       "        <th id=\"T_e932816c_c0ba_11e7_bf73_186590d6f757\" class=\"row_heading level0 row1\" >Male</th> \n",
       "        <td id=\"T_e932816c_c0ba_11e7_bf73_186590d6f757row1_col0\" class=\"data row1 col0\" >2.95052</td> \n",
       "        <td id=\"T_e932816c_c0ba_11e7_bf73_186590d6f757row1_col1\" class=\"data row1 col1\" >1867.68</td> \n",
       "        <td id=\"T_e932816c_c0ba_11e7_bf73_186590d6f757row1_col2\" class=\"data row1 col2\" >633</td> \n",
       "    </tr>    <tr> \n",
       "        <th id=\"T_e932816c_c0ba_11e7_bf73_186590d6f757\" class=\"row_heading level0 row2\" >Other / Non-Disclosed</th> \n",
       "        <td id=\"T_e932816c_c0ba_11e7_bf73_186590d6f757row2_col0\" class=\"data row2 col0\" >3.24909</td> \n",
       "        <td id=\"T_e932816c_c0ba_11e7_bf73_186590d6f757row2_col1\" class=\"data row2 col1\" >35.74</td> \n",
       "        <td id=\"T_e932816c_c0ba_11e7_bf73_186590d6f757row2_col2\" class=\"data row2 col2\" >11</td> \n",
       "    </tr></tbody> \n",
       "</table> "
      ],
      "text/plain": [
       "<pandas.io.formats.style.Styler at 0x1197d8c88>"
      ]
     },
     "execution_count": 349,
     "metadata": {},
     "output_type": "execute_result"
    }
   ],
   "source": [
    "summary_gender_purchasing = pd.DataFrame(df.groupby('Gender').agg({'Price':[np.mean,np.sum],'Item ID':'count'}))\n",
    "summary_gender_purchasing.style.bar(color='#05668D')"
   ]
  },
  {
   "cell_type": "markdown",
   "metadata": {},
   "source": [
    "======================================================================================================================"
   ]
  },
  {
   "cell_type": "markdown",
   "metadata": {},
   "source": [
    "**Age Demographics**\n",
    "\n",
    "* The below each broken into bins of 4 years (i.e. &lt;10, 10-14, 15-19, etc.) \n",
    "  * Purchase Count\n",
    "  * Average Purchase Price\n",
    "  * Total Purchase Value\n",
    "  * Normalized Totals"
   ]
  },
  {
   "cell_type": "code",
   "execution_count": 350,
   "metadata": {},
   "outputs": [
    {
     "data": {
      "text/html": [
       "<div>\n",
       "<style>\n",
       "    .dataframe thead tr:only-child th {\n",
       "        text-align: right;\n",
       "    }\n",
       "\n",
       "    .dataframe thead th {\n",
       "        text-align: left;\n",
       "    }\n",
       "\n",
       "    .dataframe tbody tr th {\n",
       "        vertical-align: top;\n",
       "    }\n",
       "</style>\n",
       "<table border=\"1\" class=\"dataframe\">\n",
       "  <thead>\n",
       "    <tr style=\"text-align: right;\">\n",
       "      <th></th>\n",
       "      <th>days</th>\n",
       "      <th>range</th>\n",
       "    </tr>\n",
       "  </thead>\n",
       "  <tbody>\n",
       "    <tr>\n",
       "      <th>0</th>\n",
       "      <td>0</td>\n",
       "      <td>[0, 30)</td>\n",
       "    </tr>\n",
       "    <tr>\n",
       "      <th>1</th>\n",
       "      <td>31</td>\n",
       "      <td>[30, 60)</td>\n",
       "    </tr>\n",
       "    <tr>\n",
       "      <th>2</th>\n",
       "      <td>45</td>\n",
       "      <td>[30, 60)</td>\n",
       "    </tr>\n",
       "    <tr>\n",
       "      <th>3</th>\n",
       "      <td>60</td>\n",
       "      <td>[60, 90)</td>\n",
       "    </tr>\n",
       "  </tbody>\n",
       "</table>\n",
       "</div>"
      ],
      "text/plain": [
       "   days     range\n",
       "0     0   [0, 30)\n",
       "1    31  [30, 60)\n",
       "2    45  [30, 60)\n",
       "3    60  [60, 90)"
      ]
     },
     "execution_count": 350,
     "metadata": {},
     "output_type": "execute_result"
    }
   ],
   "source": [
    "test = pd.DataFrame({'days': [0,31,45,60]})\n",
    "test['range'] = pd.cut(test.days, [0,30,60,90], right=False)\n",
    "test\n",
    "\n",
    "# right : Indicates whether the bins include the rightmost edge or not. If\n",
    "# right == True (the default), then the bins [1,2,3,4] indicate\n",
    "# (1,2], (2,3], (3,4]"
   ]
  },
  {
   "cell_type": "code",
   "execution_count": 351,
   "metadata": {
    "collapsed": true
   },
   "outputs": [],
   "source": [
    "age_bins = [0, 10, 15, 20, 25, 30, 35, 40, 100]\n",
    "age_labels = ['<10', '10-14', '15-19', '20-24','25-29','30-34','35-39','40+']\n",
    "df['Age_Group'] = pd.cut(df['Age'], bins ,labels = age_labels,right=False)"
   ]
  },
  {
   "cell_type": "code",
   "execution_count": 352,
   "metadata": {
    "collapsed": true
   },
   "outputs": [],
   "source": [
    "summary_age = pd.DataFrame(df.groupby('Age_Group').agg({'Price':[np.mean,np.sum],'Item ID':'count'}))"
   ]
  },
  {
   "cell_type": "code",
   "execution_count": 353,
   "metadata": {},
   "outputs": [
    {
     "data": {
      "text/html": [
       "<style  type=\"text/css\" >\n",
       "    #T_e93f7f70_c0ba_11e7_934f_186590d6f757row0_col0 {\n",
       "            width:  10em;\n",
       "             height:  80%;\n",
       "            background:  linear-gradient(90deg,#05668D 53.8%, transparent 0%);\n",
       "        }    #T_e93f7f70_c0ba_11e7_934f_186590d6f757row0_col1 {\n",
       "            width:  10em;\n",
       "             height:  80%;\n",
       "            background:  linear-gradient(90deg,#05668D 3.2%, transparent 0%);\n",
       "        }    #T_e93f7f70_c0ba_11e7_934f_186590d6f757row0_col2 {\n",
       "            width:  10em;\n",
       "             height:  80%;\n",
       "            background:  linear-gradient(90deg,#05668D 3.4%, transparent 0%);\n",
       "        }    #T_e93f7f70_c0ba_11e7_934f_186590d6f757row1_col0 {\n",
       "            width:  10em;\n",
       "             height:  80%;\n",
       "        }    #T_e93f7f70_c0ba_11e7_934f_186590d6f757row1_col1 {\n",
       "            width:  10em;\n",
       "             height:  80%;\n",
       "            background:  linear-gradient(90deg,#05668D 4.7%, transparent 0%);\n",
       "        }    #T_e93f7f70_c0ba_11e7_934f_186590d6f757row1_col2 {\n",
       "            width:  10em;\n",
       "             height:  80%;\n",
       "            background:  linear-gradient(90deg,#05668D 5.6%, transparent 0%);\n",
       "        }    #T_e93f7f70_c0ba_11e7_934f_186590d6f757row2_col0 {\n",
       "            width:  10em;\n",
       "             height:  80%;\n",
       "            background:  linear-gradient(90deg,#05668D 34.6%, transparent 0%);\n",
       "        }    #T_e93f7f70_c0ba_11e7_934f_186590d6f757row2_col1 {\n",
       "            width:  10em;\n",
       "             height:  80%;\n",
       "            background:  linear-gradient(90deg,#05668D 36.0%, transparent 0%);\n",
       "        }    #T_e93f7f70_c0ba_11e7_934f_186590d6f757row2_col2 {\n",
       "            width:  10em;\n",
       "             height:  80%;\n",
       "            background:  linear-gradient(90deg,#05668D 36.4%, transparent 0%);\n",
       "        }    #T_e93f7f70_c0ba_11e7_934f_186590d6f757row3_col0 {\n",
       "            width:  10em;\n",
       "             height:  80%;\n",
       "            background:  linear-gradient(90deg,#05668D 36.5%, transparent 0%);\n",
       "        }    #T_e93f7f70_c0ba_11e7_934f_186590d6f757row3_col1 {\n",
       "            width:  10em;\n",
       "             height:  80%;\n",
       "            background:  linear-gradient(90deg,#05668D 100.0%, transparent 0%);\n",
       "        }    #T_e93f7f70_c0ba_11e7_934f_186590d6f757row3_col2 {\n",
       "            width:  10em;\n",
       "             height:  80%;\n",
       "            background:  linear-gradient(90deg,#05668D 100.0%, transparent 0%);\n",
       "        }    #T_e93f7f70_c0ba_11e7_934f_186590d6f757row4_col0 {\n",
       "            width:  10em;\n",
       "             height:  80%;\n",
       "            background:  linear-gradient(90deg,#05668D 49.2%, transparent 0%);\n",
       "        }    #T_e93f7f70_c0ba_11e7_934f_186590d6f757row4_col1 {\n",
       "            width:  10em;\n",
       "             height:  80%;\n",
       "            background:  linear-gradient(90deg,#05668D 34.2%, transparent 0%);\n",
       "        }    #T_e93f7f70_c0ba_11e7_934f_186590d6f757row4_col2 {\n",
       "            width:  10em;\n",
       "             height:  80%;\n",
       "            background:  linear-gradient(90deg,#05668D 33.9%, transparent 0%);\n",
       "        }    #T_e93f7f70_c0ba_11e7_934f_186590d6f757row5_col0 {\n",
       "            width:  10em;\n",
       "             height:  80%;\n",
       "            background:  linear-gradient(90deg,#05668D 79.6%, transparent 0%);\n",
       "        }    #T_e93f7f70_c0ba_11e7_934f_186590d6f757row5_col1 {\n",
       "            width:  10em;\n",
       "             height:  80%;\n",
       "            background:  linear-gradient(90deg,#05668D 15.5%, transparent 0%);\n",
       "        }    #T_e93f7f70_c0ba_11e7_934f_186590d6f757row5_col2 {\n",
       "            width:  10em;\n",
       "             height:  80%;\n",
       "            background:  linear-gradient(90deg,#05668D 14.7%, transparent 0%);\n",
       "        }    #T_e93f7f70_c0ba_11e7_934f_186590d6f757row6_col0 {\n",
       "            width:  10em;\n",
       "             height:  80%;\n",
       "            background:  linear-gradient(90deg,#05668D 18.6%, transparent 0%);\n",
       "        }    #T_e93f7f70_c0ba_11e7_934f_186590d6f757row6_col1 {\n",
       "            width:  10em;\n",
       "             height:  80%;\n",
       "            background:  linear-gradient(90deg,#05668D 7.1%, transparent 0%);\n",
       "        }    #T_e93f7f70_c0ba_11e7_934f_186590d6f757row6_col2 {\n",
       "            width:  10em;\n",
       "             height:  80%;\n",
       "            background:  linear-gradient(90deg,#05668D 7.8%, transparent 0%);\n",
       "        }    #T_e93f7f70_c0ba_11e7_934f_186590d6f757row7_col0 {\n",
       "            width:  10em;\n",
       "             height:  80%;\n",
       "            background:  linear-gradient(90deg,#05668D 100.0%, transparent 0%);\n",
       "        }    #T_e93f7f70_c0ba_11e7_934f_186590d6f757row7_col1 {\n",
       "            width:  10em;\n",
       "             height:  80%;\n",
       "        }    #T_e93f7f70_c0ba_11e7_934f_186590d6f757row7_col2 {\n",
       "            width:  10em;\n",
       "             height:  80%;\n",
       "        }</style>  \n",
       "<table id=\"T_e93f7f70_c0ba_11e7_934f_186590d6f757\" > \n",
       "<thead>    <tr> \n",
       "        <th class=\"blank level0\" ></th> \n",
       "        <th class=\"col_heading level0 col0\" colspan=2>Price</th> \n",
       "        <th class=\"col_heading level0 col2\" >Item ID</th> \n",
       "    </tr>    <tr> \n",
       "        <th class=\"blank level1\" ></th> \n",
       "        <th class=\"col_heading level1 col0\" >mean</th> \n",
       "        <th class=\"col_heading level1 col1\" >sum</th> \n",
       "        <th class=\"col_heading level1 col2\" >count</th> \n",
       "    </tr>    <tr> \n",
       "        <th class=\"index_name level0\" >Age_Group</th> \n",
       "        <th class=\"blank\" ></th> \n",
       "        <th class=\"blank\" ></th> \n",
       "        <th class=\"blank\" ></th> \n",
       "    </tr></thead> \n",
       "<tbody>    <tr> \n",
       "        <th id=\"T_e93f7f70_c0ba_11e7_934f_186590d6f757\" class=\"row_heading level0 row0\" ><10</th> \n",
       "        <td id=\"T_e93f7f70_c0ba_11e7_934f_186590d6f757row0_col0\" class=\"data row0 col0\" >2.98071</td> \n",
       "        <td id=\"T_e93f7f70_c0ba_11e7_934f_186590d6f757row0_col1\" class=\"data row0 col1\" >83.46</td> \n",
       "        <td id=\"T_e93f7f70_c0ba_11e7_934f_186590d6f757row0_col2\" class=\"data row0 col2\" >28</td> \n",
       "    </tr>    <tr> \n",
       "        <th id=\"T_e93f7f70_c0ba_11e7_934f_186590d6f757\" class=\"row_heading level0 row1\" >10-14</th> \n",
       "        <td id=\"T_e93f7f70_c0ba_11e7_934f_186590d6f757row1_col0\" class=\"data row1 col0\" >2.77</td> \n",
       "        <td id=\"T_e93f7f70_c0ba_11e7_934f_186590d6f757row1_col1\" class=\"data row1 col1\" >96.95</td> \n",
       "        <td id=\"T_e93f7f70_c0ba_11e7_934f_186590d6f757row1_col2\" class=\"data row1 col2\" >35</td> \n",
       "    </tr>    <tr> \n",
       "        <th id=\"T_e93f7f70_c0ba_11e7_934f_186590d6f757\" class=\"row_heading level0 row2\" >15-19</th> \n",
       "        <td id=\"T_e93f7f70_c0ba_11e7_934f_186590d6f757row2_col0\" class=\"data row2 col0\" >2.90541</td> \n",
       "        <td id=\"T_e93f7f70_c0ba_11e7_934f_186590d6f757row2_col1\" class=\"data row2 col1\" >386.42</td> \n",
       "        <td id=\"T_e93f7f70_c0ba_11e7_934f_186590d6f757row2_col2\" class=\"data row2 col2\" >133</td> \n",
       "    </tr>    <tr> \n",
       "        <th id=\"T_e93f7f70_c0ba_11e7_934f_186590d6f757\" class=\"row_heading level0 row3\" >20-24</th> \n",
       "        <td id=\"T_e93f7f70_c0ba_11e7_934f_186590d6f757row3_col0\" class=\"data row3 col0\" >2.91301</td> \n",
       "        <td id=\"T_e93f7f70_c0ba_11e7_934f_186590d6f757row3_col1\" class=\"data row3 col1\" >978.77</td> \n",
       "        <td id=\"T_e93f7f70_c0ba_11e7_934f_186590d6f757row3_col2\" class=\"data row3 col2\" >336</td> \n",
       "    </tr>    <tr> \n",
       "        <th id=\"T_e93f7f70_c0ba_11e7_934f_186590d6f757\" class=\"row_heading level0 row4\" >25-29</th> \n",
       "        <td id=\"T_e93f7f70_c0ba_11e7_934f_186590d6f757row4_col0\" class=\"data row4 col0\" >2.96264</td> \n",
       "        <td id=\"T_e93f7f70_c0ba_11e7_934f_186590d6f757row4_col1\" class=\"data row4 col1\" >370.33</td> \n",
       "        <td id=\"T_e93f7f70_c0ba_11e7_934f_186590d6f757row4_col2\" class=\"data row4 col2\" >125</td> \n",
       "    </tr>    <tr> \n",
       "        <th id=\"T_e93f7f70_c0ba_11e7_934f_186590d6f757\" class=\"row_heading level0 row5\" >30-34</th> \n",
       "        <td id=\"T_e93f7f70_c0ba_11e7_934f_186590d6f757row5_col0\" class=\"data row5 col0\" >3.08203</td> \n",
       "        <td id=\"T_e93f7f70_c0ba_11e7_934f_186590d6f757row5_col1\" class=\"data row5 col1\" >197.25</td> \n",
       "        <td id=\"T_e93f7f70_c0ba_11e7_934f_186590d6f757row5_col2\" class=\"data row5 col2\" >64</td> \n",
       "    </tr>    <tr> \n",
       "        <th id=\"T_e93f7f70_c0ba_11e7_934f_186590d6f757\" class=\"row_heading level0 row6\" >35-39</th> \n",
       "        <td id=\"T_e93f7f70_c0ba_11e7_934f_186590d6f757row6_col0\" class=\"data row6 col0\" >2.84286</td> \n",
       "        <td id=\"T_e93f7f70_c0ba_11e7_934f_186590d6f757row6_col1\" class=\"data row6 col1\" >119.4</td> \n",
       "        <td id=\"T_e93f7f70_c0ba_11e7_934f_186590d6f757row6_col2\" class=\"data row6 col2\" >42</td> \n",
       "    </tr>    <tr> \n",
       "        <th id=\"T_e93f7f70_c0ba_11e7_934f_186590d6f757\" class=\"row_heading level0 row7\" >40+</th> \n",
       "        <td id=\"T_e93f7f70_c0ba_11e7_934f_186590d6f757row7_col0\" class=\"data row7 col0\" >3.16176</td> \n",
       "        <td id=\"T_e93f7f70_c0ba_11e7_934f_186590d6f757row7_col1\" class=\"data row7 col1\" >53.75</td> \n",
       "        <td id=\"T_e93f7f70_c0ba_11e7_934f_186590d6f757row7_col2\" class=\"data row7 col2\" >17</td> \n",
       "    </tr></tbody> \n",
       "</table> "
      ],
      "text/plain": [
       "<pandas.io.formats.style.Styler at 0x1197cb780>"
      ]
     },
     "execution_count": 353,
     "metadata": {},
     "output_type": "execute_result"
    }
   ],
   "source": [
    "summary_age.style.bar(color='#05668D')"
   ]
  },
  {
   "cell_type": "markdown",
   "metadata": {},
   "source": [
    "======================================================================================================================"
   ]
  },
  {
   "cell_type": "markdown",
   "metadata": {},
   "source": [
    "**Top Spenders**\n",
    "\n",
    "* Identify the the top 5 spenders in the game by total purchase value, then list (in a table):\n",
    "  * SN\n",
    "  * Purchase Count\n",
    "  * Average Purchase Price\n",
    "  * Total Purchase Value"
   ]
  },
  {
   "cell_type": "code",
   "execution_count": 354,
   "metadata": {},
   "outputs": [],
   "source": [
    "summary_spenders = pd.DataFrame(df.groupby(['SN']).agg({'Price':[np.mean,np.sum],'Item ID':'count'}))"
   ]
  },
  {
   "cell_type": "code",
   "execution_count": 355,
   "metadata": {},
   "outputs": [
    {
     "data": {
      "text/html": [
       "<style  type=\"text/css\" >\n",
       "    #T_e9455d82_c0ba_11e7_be64_186590d6f757row0_col0 {\n",
       "            background-color:  black;\n",
       "            color:  lawngreen;\n",
       "            border-color:  white;\n",
       "        }    #T_e9455d82_c0ba_11e7_be64_186590d6f757row0_col1 {\n",
       "            background-color:  black;\n",
       "            color:  lawngreen;\n",
       "            border-color:  white;\n",
       "        }    #T_e9455d82_c0ba_11e7_be64_186590d6f757row0_col2 {\n",
       "            background-color:  black;\n",
       "            color:  lawngreen;\n",
       "            border-color:  white;\n",
       "        }    #T_e9455d82_c0ba_11e7_be64_186590d6f757row1_col0 {\n",
       "            background-color:  black;\n",
       "            color:  lawngreen;\n",
       "            border-color:  white;\n",
       "        }    #T_e9455d82_c0ba_11e7_be64_186590d6f757row1_col1 {\n",
       "            background-color:  black;\n",
       "            color:  lawngreen;\n",
       "            border-color:  white;\n",
       "        }    #T_e9455d82_c0ba_11e7_be64_186590d6f757row1_col2 {\n",
       "            background-color:  black;\n",
       "            color:  lawngreen;\n",
       "            border-color:  white;\n",
       "        }    #T_e9455d82_c0ba_11e7_be64_186590d6f757row2_col0 {\n",
       "            background-color:  black;\n",
       "            color:  lawngreen;\n",
       "            border-color:  white;\n",
       "        }    #T_e9455d82_c0ba_11e7_be64_186590d6f757row2_col1 {\n",
       "            background-color:  black;\n",
       "            color:  lawngreen;\n",
       "            border-color:  white;\n",
       "        }    #T_e9455d82_c0ba_11e7_be64_186590d6f757row2_col2 {\n",
       "            background-color:  black;\n",
       "            color:  lawngreen;\n",
       "            border-color:  white;\n",
       "        }    #T_e9455d82_c0ba_11e7_be64_186590d6f757row3_col0 {\n",
       "            background-color:  black;\n",
       "            color:  lawngreen;\n",
       "            border-color:  white;\n",
       "        }    #T_e9455d82_c0ba_11e7_be64_186590d6f757row3_col1 {\n",
       "            background-color:  black;\n",
       "            color:  lawngreen;\n",
       "            border-color:  white;\n",
       "        }    #T_e9455d82_c0ba_11e7_be64_186590d6f757row3_col2 {\n",
       "            background-color:  black;\n",
       "            color:  lawngreen;\n",
       "            border-color:  white;\n",
       "        }    #T_e9455d82_c0ba_11e7_be64_186590d6f757row4_col0 {\n",
       "            background-color:  black;\n",
       "            color:  lawngreen;\n",
       "            border-color:  white;\n",
       "        }    #T_e9455d82_c0ba_11e7_be64_186590d6f757row4_col1 {\n",
       "            background-color:  black;\n",
       "            color:  lawngreen;\n",
       "            border-color:  white;\n",
       "        }    #T_e9455d82_c0ba_11e7_be64_186590d6f757row4_col2 {\n",
       "            background-color:  black;\n",
       "            color:  lawngreen;\n",
       "            border-color:  white;\n",
       "        }</style>  \n",
       "<table id=\"T_e9455d82_c0ba_11e7_be64_186590d6f757\" > \n",
       "<thead>    <tr> \n",
       "        <th class=\"blank level0\" ></th> \n",
       "        <th class=\"col_heading level0 col0\" colspan=2>Price</th> \n",
       "        <th class=\"col_heading level0 col2\" >Item ID</th> \n",
       "    </tr>    <tr> \n",
       "        <th class=\"blank level1\" ></th> \n",
       "        <th class=\"col_heading level1 col0\" >mean</th> \n",
       "        <th class=\"col_heading level1 col1\" >sum</th> \n",
       "        <th class=\"col_heading level1 col2\" >count</th> \n",
       "    </tr>    <tr> \n",
       "        <th class=\"index_name level0\" >SN</th> \n",
       "        <th class=\"blank\" ></th> \n",
       "        <th class=\"blank\" ></th> \n",
       "        <th class=\"blank\" ></th> \n",
       "    </tr></thead> \n",
       "<tbody>    <tr> \n",
       "        <th id=\"T_e9455d82_c0ba_11e7_be64_186590d6f757\" class=\"row_heading level0 row0\" >Undirrala66</th> \n",
       "        <td id=\"T_e9455d82_c0ba_11e7_be64_186590d6f757row0_col0\" class=\"data row0 col0\" >3.412</td> \n",
       "        <td id=\"T_e9455d82_c0ba_11e7_be64_186590d6f757row0_col1\" class=\"data row0 col1\" >17.06</td> \n",
       "        <td id=\"T_e9455d82_c0ba_11e7_be64_186590d6f757row0_col2\" class=\"data row0 col2\" >5</td> \n",
       "    </tr>    <tr> \n",
       "        <th id=\"T_e9455d82_c0ba_11e7_be64_186590d6f757\" class=\"row_heading level0 row1\" >Saedue76</th> \n",
       "        <td id=\"T_e9455d82_c0ba_11e7_be64_186590d6f757row1_col0\" class=\"data row1 col0\" >3.39</td> \n",
       "        <td id=\"T_e9455d82_c0ba_11e7_be64_186590d6f757row1_col1\" class=\"data row1 col1\" >13.56</td> \n",
       "        <td id=\"T_e9455d82_c0ba_11e7_be64_186590d6f757row1_col2\" class=\"data row1 col2\" >4</td> \n",
       "    </tr>    <tr> \n",
       "        <th id=\"T_e9455d82_c0ba_11e7_be64_186590d6f757\" class=\"row_heading level0 row2\" >Mindimnya67</th> \n",
       "        <td id=\"T_e9455d82_c0ba_11e7_be64_186590d6f757row2_col0\" class=\"data row2 col0\" >3.185</td> \n",
       "        <td id=\"T_e9455d82_c0ba_11e7_be64_186590d6f757row2_col1\" class=\"data row2 col1\" >12.74</td> \n",
       "        <td id=\"T_e9455d82_c0ba_11e7_be64_186590d6f757row2_col2\" class=\"data row2 col2\" >4</td> \n",
       "    </tr>    <tr> \n",
       "        <th id=\"T_e9455d82_c0ba_11e7_be64_186590d6f757\" class=\"row_heading level0 row3\" >Haellysu29</th> \n",
       "        <td id=\"T_e9455d82_c0ba_11e7_be64_186590d6f757row3_col0\" class=\"data row3 col0\" >4.24333</td> \n",
       "        <td id=\"T_e9455d82_c0ba_11e7_be64_186590d6f757row3_col1\" class=\"data row3 col1\" >12.73</td> \n",
       "        <td id=\"T_e9455d82_c0ba_11e7_be64_186590d6f757row3_col2\" class=\"data row3 col2\" >3</td> \n",
       "    </tr>    <tr> \n",
       "        <th id=\"T_e9455d82_c0ba_11e7_be64_186590d6f757\" class=\"row_heading level0 row4\" >Eoda93</th> \n",
       "        <td id=\"T_e9455d82_c0ba_11e7_be64_186590d6f757row4_col0\" class=\"data row4 col0\" >3.86</td> \n",
       "        <td id=\"T_e9455d82_c0ba_11e7_be64_186590d6f757row4_col1\" class=\"data row4 col1\" >11.58</td> \n",
       "        <td id=\"T_e9455d82_c0ba_11e7_be64_186590d6f757row4_col2\" class=\"data row4 col2\" >3</td> \n",
       "    </tr></tbody> \n",
       "</table> "
      ],
      "text/plain": [
       "<pandas.io.formats.style.Styler at 0x1197d0cc0>"
      ]
     },
     "execution_count": 355,
     "metadata": {},
     "output_type": "execute_result"
    }
   ],
   "source": [
    "summary_spenders.sort_values(('Price','sum'),ascending=False)[:5].style.set_properties(**{'background-color': 'black',\n",
    "                           'color': 'lawngreen',\n",
    "                           'border-color': 'white'})"
   ]
  },
  {
   "cell_type": "markdown",
   "metadata": {},
   "source": [
    "======================================================================================================================"
   ]
  },
  {
   "cell_type": "markdown",
   "metadata": {},
   "source": [
    "**Most Popular Items**\n",
    "\n",
    "* Identify the 5 most popular items by purchase count, then list (in a table):\n",
    "  * Item ID\n",
    "  * Item Name\n",
    "  * Purchase Count\n",
    "  * Item Price\n",
    "  * Total Purchase Value"
   ]
  },
  {
   "cell_type": "code",
   "execution_count": 359,
   "metadata": {},
   "outputs": [],
   "source": [
    "summary_items = pd.DataFrame(df.groupby(['Item ID','Item Name']).agg({'Price':[np.mean,np.sum],'Item ID':'count'}))"
   ]
  },
  {
   "cell_type": "code",
   "execution_count": 361,
   "metadata": {},
   "outputs": [
    {
     "data": {
      "text/html": [
       "<style  type=\"text/css\" >\n",
       "    #T_fc6dad58_c0ba_11e7_a4f2_186590d6f757row0_col0 {\n",
       "            background-color:  black;\n",
       "            color:  lawngreen;\n",
       "            border-color:  white;\n",
       "        }    #T_fc6dad58_c0ba_11e7_a4f2_186590d6f757row0_col1 {\n",
       "            background-color:  black;\n",
       "            color:  lawngreen;\n",
       "            border-color:  white;\n",
       "        }    #T_fc6dad58_c0ba_11e7_a4f2_186590d6f757row0_col2 {\n",
       "            background-color:  black;\n",
       "            color:  lawngreen;\n",
       "            border-color:  white;\n",
       "        }    #T_fc6dad58_c0ba_11e7_a4f2_186590d6f757row1_col0 {\n",
       "            background-color:  black;\n",
       "            color:  lawngreen;\n",
       "            border-color:  white;\n",
       "        }    #T_fc6dad58_c0ba_11e7_a4f2_186590d6f757row1_col1 {\n",
       "            background-color:  black;\n",
       "            color:  lawngreen;\n",
       "            border-color:  white;\n",
       "        }    #T_fc6dad58_c0ba_11e7_a4f2_186590d6f757row1_col2 {\n",
       "            background-color:  black;\n",
       "            color:  lawngreen;\n",
       "            border-color:  white;\n",
       "        }    #T_fc6dad58_c0ba_11e7_a4f2_186590d6f757row2_col0 {\n",
       "            background-color:  black;\n",
       "            color:  lawngreen;\n",
       "            border-color:  white;\n",
       "        }    #T_fc6dad58_c0ba_11e7_a4f2_186590d6f757row2_col1 {\n",
       "            background-color:  black;\n",
       "            color:  lawngreen;\n",
       "            border-color:  white;\n",
       "        }    #T_fc6dad58_c0ba_11e7_a4f2_186590d6f757row2_col2 {\n",
       "            background-color:  black;\n",
       "            color:  lawngreen;\n",
       "            border-color:  white;\n",
       "        }    #T_fc6dad58_c0ba_11e7_a4f2_186590d6f757row3_col0 {\n",
       "            background-color:  black;\n",
       "            color:  lawngreen;\n",
       "            border-color:  white;\n",
       "        }    #T_fc6dad58_c0ba_11e7_a4f2_186590d6f757row3_col1 {\n",
       "            background-color:  black;\n",
       "            color:  lawngreen;\n",
       "            border-color:  white;\n",
       "        }    #T_fc6dad58_c0ba_11e7_a4f2_186590d6f757row3_col2 {\n",
       "            background-color:  black;\n",
       "            color:  lawngreen;\n",
       "            border-color:  white;\n",
       "        }    #T_fc6dad58_c0ba_11e7_a4f2_186590d6f757row4_col0 {\n",
       "            background-color:  black;\n",
       "            color:  lawngreen;\n",
       "            border-color:  white;\n",
       "        }    #T_fc6dad58_c0ba_11e7_a4f2_186590d6f757row4_col1 {\n",
       "            background-color:  black;\n",
       "            color:  lawngreen;\n",
       "            border-color:  white;\n",
       "        }    #T_fc6dad58_c0ba_11e7_a4f2_186590d6f757row4_col2 {\n",
       "            background-color:  black;\n",
       "            color:  lawngreen;\n",
       "            border-color:  white;\n",
       "        }</style>  \n",
       "<table id=\"T_fc6dad58_c0ba_11e7_a4f2_186590d6f757\" > \n",
       "<thead>    <tr> \n",
       "        <th class=\"blank\" ></th> \n",
       "        <th class=\"blank level0\" ></th> \n",
       "        <th class=\"col_heading level0 col0\" colspan=2>Price</th> \n",
       "        <th class=\"col_heading level0 col2\" >Item ID</th> \n",
       "    </tr>    <tr> \n",
       "        <th class=\"blank\" ></th> \n",
       "        <th class=\"blank level1\" ></th> \n",
       "        <th class=\"col_heading level1 col0\" >mean</th> \n",
       "        <th class=\"col_heading level1 col1\" >sum</th> \n",
       "        <th class=\"col_heading level1 col2\" >count</th> \n",
       "    </tr>    <tr> \n",
       "        <th class=\"index_name level0\" >Item ID</th> \n",
       "        <th class=\"index_name level1\" >Item Name</th> \n",
       "        <th class=\"blank\" ></th> \n",
       "        <th class=\"blank\" ></th> \n",
       "        <th class=\"blank\" ></th> \n",
       "    </tr></thead> \n",
       "<tbody>    <tr> \n",
       "        <th id=\"T_fc6dad58_c0ba_11e7_a4f2_186590d6f757\" class=\"row_heading level0 row0\" >39</th> \n",
       "        <th id=\"T_fc6dad58_c0ba_11e7_a4f2_186590d6f757\" class=\"row_heading level1 row0\" >Betrayal, Whisper of Grieving Widows</th> \n",
       "        <td id=\"T_fc6dad58_c0ba_11e7_a4f2_186590d6f757row0_col0\" class=\"data row0 col0\" >2.35</td> \n",
       "        <td id=\"T_fc6dad58_c0ba_11e7_a4f2_186590d6f757row0_col1\" class=\"data row0 col1\" >25.85</td> \n",
       "        <td id=\"T_fc6dad58_c0ba_11e7_a4f2_186590d6f757row0_col2\" class=\"data row0 col2\" >11</td> \n",
       "    </tr>    <tr> \n",
       "        <th id=\"T_fc6dad58_c0ba_11e7_a4f2_186590d6f757\" class=\"row_heading level0 row1\" >84</th> \n",
       "        <th id=\"T_fc6dad58_c0ba_11e7_a4f2_186590d6f757\" class=\"row_heading level1 row1\" >Arcane Gem</th> \n",
       "        <td id=\"T_fc6dad58_c0ba_11e7_a4f2_186590d6f757row1_col0\" class=\"data row1 col0\" >2.23</td> \n",
       "        <td id=\"T_fc6dad58_c0ba_11e7_a4f2_186590d6f757row1_col1\" class=\"data row1 col1\" >24.53</td> \n",
       "        <td id=\"T_fc6dad58_c0ba_11e7_a4f2_186590d6f757row1_col2\" class=\"data row1 col2\" >11</td> \n",
       "    </tr>    <tr> \n",
       "        <th id=\"T_fc6dad58_c0ba_11e7_a4f2_186590d6f757\" class=\"row_heading level0 row2\" >31</th> \n",
       "        <th id=\"T_fc6dad58_c0ba_11e7_a4f2_186590d6f757\" class=\"row_heading level1 row2\" >Trickster</th> \n",
       "        <td id=\"T_fc6dad58_c0ba_11e7_a4f2_186590d6f757row2_col0\" class=\"data row2 col0\" >2.07</td> \n",
       "        <td id=\"T_fc6dad58_c0ba_11e7_a4f2_186590d6f757row2_col1\" class=\"data row2 col1\" >18.63</td> \n",
       "        <td id=\"T_fc6dad58_c0ba_11e7_a4f2_186590d6f757row2_col2\" class=\"data row2 col2\" >9</td> \n",
       "    </tr>    <tr> \n",
       "        <th id=\"T_fc6dad58_c0ba_11e7_a4f2_186590d6f757\" class=\"row_heading level0 row3\" >175</th> \n",
       "        <th id=\"T_fc6dad58_c0ba_11e7_a4f2_186590d6f757\" class=\"row_heading level1 row3\" >Woeful Adamantite Claymore</th> \n",
       "        <td id=\"T_fc6dad58_c0ba_11e7_a4f2_186590d6f757row3_col0\" class=\"data row3 col0\" >1.24</td> \n",
       "        <td id=\"T_fc6dad58_c0ba_11e7_a4f2_186590d6f757row3_col1\" class=\"data row3 col1\" >11.16</td> \n",
       "        <td id=\"T_fc6dad58_c0ba_11e7_a4f2_186590d6f757row3_col2\" class=\"data row3 col2\" >9</td> \n",
       "    </tr>    <tr> \n",
       "        <th id=\"T_fc6dad58_c0ba_11e7_a4f2_186590d6f757\" class=\"row_heading level0 row4\" >13</th> \n",
       "        <th id=\"T_fc6dad58_c0ba_11e7_a4f2_186590d6f757\" class=\"row_heading level1 row4\" >Serenity</th> \n",
       "        <td id=\"T_fc6dad58_c0ba_11e7_a4f2_186590d6f757row4_col0\" class=\"data row4 col0\" >1.49</td> \n",
       "        <td id=\"T_fc6dad58_c0ba_11e7_a4f2_186590d6f757row4_col1\" class=\"data row4 col1\" >13.41</td> \n",
       "        <td id=\"T_fc6dad58_c0ba_11e7_a4f2_186590d6f757row4_col2\" class=\"data row4 col2\" >9</td> \n",
       "    </tr></tbody> \n",
       "</table> "
      ],
      "text/plain": [
       "<pandas.io.formats.style.Styler at 0x1197d8d30>"
      ]
     },
     "execution_count": 361,
     "metadata": {},
     "output_type": "execute_result"
    }
   ],
   "source": [
    "summary_items.sort_values(('Item ID','count'),ascending=False)[0:5].style.set_properties(**{'background-color': 'black',\n",
    "                           'color': 'lawngreen',\n",
    "                           'border-color': 'white'})"
   ]
  },
  {
   "cell_type": "markdown",
   "metadata": {},
   "source": [
    "======================================================================================================================"
   ]
  },
  {
   "cell_type": "markdown",
   "metadata": {},
   "source": [
    "**Most Profitable Items**\n",
    "\n",
    "* Identify the 5 most profitable items by total purchase value, then list (in a table):\n",
    "  * Item ID\n",
    "  * Item Name\n",
    "  * Purchase Count\n",
    "  * Item Price\n",
    "  * Total Purchase Value"
   ]
  },
  {
   "cell_type": "code",
   "execution_count": 364,
   "metadata": {
    "scrolled": true
   },
   "outputs": [],
   "source": [
    "summary_items = pd.DataFrame(df.groupby(['Item ID','Item Name']).agg({'Price':[np.mean,np.sum],'Item ID':'count'}))"
   ]
  },
  {
   "cell_type": "code",
   "execution_count": 365,
   "metadata": {},
   "outputs": [
    {
     "data": {
      "text/html": [
       "<style  type=\"text/css\" >\n",
       "    #T_1f60e6e8_c0bb_11e7_a76f_186590d6f757row0_col0 {\n",
       "            background-color:  black;\n",
       "            color:  lawngreen;\n",
       "            border-color:  white;\n",
       "        }    #T_1f60e6e8_c0bb_11e7_a76f_186590d6f757row0_col1 {\n",
       "            background-color:  black;\n",
       "            color:  lawngreen;\n",
       "            border-color:  white;\n",
       "        }    #T_1f60e6e8_c0bb_11e7_a76f_186590d6f757row0_col2 {\n",
       "            background-color:  black;\n",
       "            color:  lawngreen;\n",
       "            border-color:  white;\n",
       "        }    #T_1f60e6e8_c0bb_11e7_a76f_186590d6f757row1_col0 {\n",
       "            background-color:  black;\n",
       "            color:  lawngreen;\n",
       "            border-color:  white;\n",
       "        }    #T_1f60e6e8_c0bb_11e7_a76f_186590d6f757row1_col1 {\n",
       "            background-color:  black;\n",
       "            color:  lawngreen;\n",
       "            border-color:  white;\n",
       "        }    #T_1f60e6e8_c0bb_11e7_a76f_186590d6f757row1_col2 {\n",
       "            background-color:  black;\n",
       "            color:  lawngreen;\n",
       "            border-color:  white;\n",
       "        }    #T_1f60e6e8_c0bb_11e7_a76f_186590d6f757row2_col0 {\n",
       "            background-color:  black;\n",
       "            color:  lawngreen;\n",
       "            border-color:  white;\n",
       "        }    #T_1f60e6e8_c0bb_11e7_a76f_186590d6f757row2_col1 {\n",
       "            background-color:  black;\n",
       "            color:  lawngreen;\n",
       "            border-color:  white;\n",
       "        }    #T_1f60e6e8_c0bb_11e7_a76f_186590d6f757row2_col2 {\n",
       "            background-color:  black;\n",
       "            color:  lawngreen;\n",
       "            border-color:  white;\n",
       "        }    #T_1f60e6e8_c0bb_11e7_a76f_186590d6f757row3_col0 {\n",
       "            background-color:  black;\n",
       "            color:  lawngreen;\n",
       "            border-color:  white;\n",
       "        }    #T_1f60e6e8_c0bb_11e7_a76f_186590d6f757row3_col1 {\n",
       "            background-color:  black;\n",
       "            color:  lawngreen;\n",
       "            border-color:  white;\n",
       "        }    #T_1f60e6e8_c0bb_11e7_a76f_186590d6f757row3_col2 {\n",
       "            background-color:  black;\n",
       "            color:  lawngreen;\n",
       "            border-color:  white;\n",
       "        }    #T_1f60e6e8_c0bb_11e7_a76f_186590d6f757row4_col0 {\n",
       "            background-color:  black;\n",
       "            color:  lawngreen;\n",
       "            border-color:  white;\n",
       "        }    #T_1f60e6e8_c0bb_11e7_a76f_186590d6f757row4_col1 {\n",
       "            background-color:  black;\n",
       "            color:  lawngreen;\n",
       "            border-color:  white;\n",
       "        }    #T_1f60e6e8_c0bb_11e7_a76f_186590d6f757row4_col2 {\n",
       "            background-color:  black;\n",
       "            color:  lawngreen;\n",
       "            border-color:  white;\n",
       "        }</style>  \n",
       "<table id=\"T_1f60e6e8_c0bb_11e7_a76f_186590d6f757\" > \n",
       "<thead>    <tr> \n",
       "        <th class=\"blank\" ></th> \n",
       "        <th class=\"blank level0\" ></th> \n",
       "        <th class=\"col_heading level0 col0\" colspan=2>Price</th> \n",
       "        <th class=\"col_heading level0 col2\" >Item ID</th> \n",
       "    </tr>    <tr> \n",
       "        <th class=\"blank\" ></th> \n",
       "        <th class=\"blank level1\" ></th> \n",
       "        <th class=\"col_heading level1 col0\" >mean</th> \n",
       "        <th class=\"col_heading level1 col1\" >sum</th> \n",
       "        <th class=\"col_heading level1 col2\" >count</th> \n",
       "    </tr>    <tr> \n",
       "        <th class=\"index_name level0\" >Item ID</th> \n",
       "        <th class=\"index_name level1\" >Item Name</th> \n",
       "        <th class=\"blank\" ></th> \n",
       "        <th class=\"blank\" ></th> \n",
       "        <th class=\"blank\" ></th> \n",
       "    </tr></thead> \n",
       "<tbody>    <tr> \n",
       "        <th id=\"T_1f60e6e8_c0bb_11e7_a76f_186590d6f757\" class=\"row_heading level0 row0\" >34</th> \n",
       "        <th id=\"T_1f60e6e8_c0bb_11e7_a76f_186590d6f757\" class=\"row_heading level1 row0\" >Retribution Axe</th> \n",
       "        <td id=\"T_1f60e6e8_c0bb_11e7_a76f_186590d6f757row0_col0\" class=\"data row0 col0\" >4.14</td> \n",
       "        <td id=\"T_1f60e6e8_c0bb_11e7_a76f_186590d6f757row0_col1\" class=\"data row0 col1\" >37.26</td> \n",
       "        <td id=\"T_1f60e6e8_c0bb_11e7_a76f_186590d6f757row0_col2\" class=\"data row0 col2\" >9</td> \n",
       "    </tr>    <tr> \n",
       "        <th id=\"T_1f60e6e8_c0bb_11e7_a76f_186590d6f757\" class=\"row_heading level0 row1\" >115</th> \n",
       "        <th id=\"T_1f60e6e8_c0bb_11e7_a76f_186590d6f757\" class=\"row_heading level1 row1\" >Spectral Diamond Doomblade</th> \n",
       "        <td id=\"T_1f60e6e8_c0bb_11e7_a76f_186590d6f757row1_col0\" class=\"data row1 col0\" >4.25</td> \n",
       "        <td id=\"T_1f60e6e8_c0bb_11e7_a76f_186590d6f757row1_col1\" class=\"data row1 col1\" >29.75</td> \n",
       "        <td id=\"T_1f60e6e8_c0bb_11e7_a76f_186590d6f757row1_col2\" class=\"data row1 col2\" >7</td> \n",
       "    </tr>    <tr> \n",
       "        <th id=\"T_1f60e6e8_c0bb_11e7_a76f_186590d6f757\" class=\"row_heading level0 row2\" >32</th> \n",
       "        <th id=\"T_1f60e6e8_c0bb_11e7_a76f_186590d6f757\" class=\"row_heading level1 row2\" >Orenmir</th> \n",
       "        <td id=\"T_1f60e6e8_c0bb_11e7_a76f_186590d6f757row2_col0\" class=\"data row2 col0\" >4.95</td> \n",
       "        <td id=\"T_1f60e6e8_c0bb_11e7_a76f_186590d6f757row2_col1\" class=\"data row2 col1\" >29.7</td> \n",
       "        <td id=\"T_1f60e6e8_c0bb_11e7_a76f_186590d6f757row2_col2\" class=\"data row2 col2\" >6</td> \n",
       "    </tr>    <tr> \n",
       "        <th id=\"T_1f60e6e8_c0bb_11e7_a76f_186590d6f757\" class=\"row_heading level0 row3\" >103</th> \n",
       "        <th id=\"T_1f60e6e8_c0bb_11e7_a76f_186590d6f757\" class=\"row_heading level1 row3\" >Singed Scalpel</th> \n",
       "        <td id=\"T_1f60e6e8_c0bb_11e7_a76f_186590d6f757row3_col0\" class=\"data row3 col0\" >4.87</td> \n",
       "        <td id=\"T_1f60e6e8_c0bb_11e7_a76f_186590d6f757row3_col1\" class=\"data row3 col1\" >29.22</td> \n",
       "        <td id=\"T_1f60e6e8_c0bb_11e7_a76f_186590d6f757row3_col2\" class=\"data row3 col2\" >6</td> \n",
       "    </tr>    <tr> \n",
       "        <th id=\"T_1f60e6e8_c0bb_11e7_a76f_186590d6f757\" class=\"row_heading level0 row4\" >107</th> \n",
       "        <th id=\"T_1f60e6e8_c0bb_11e7_a76f_186590d6f757\" class=\"row_heading level1 row4\" >Splitter, Foe Of Subtlety</th> \n",
       "        <td id=\"T_1f60e6e8_c0bb_11e7_a76f_186590d6f757row4_col0\" class=\"data row4 col0\" >3.61</td> \n",
       "        <td id=\"T_1f60e6e8_c0bb_11e7_a76f_186590d6f757row4_col1\" class=\"data row4 col1\" >28.88</td> \n",
       "        <td id=\"T_1f60e6e8_c0bb_11e7_a76f_186590d6f757row4_col2\" class=\"data row4 col2\" >8</td> \n",
       "    </tr></tbody> \n",
       "</table> "
      ],
      "text/plain": [
       "<pandas.io.formats.style.Styler at 0x1197bb400>"
      ]
     },
     "execution_count": 365,
     "metadata": {},
     "output_type": "execute_result"
    }
   ],
   "source": [
    "summary_items.sort_values(('Price','sum'),ascending=False)[0:5].style.set_properties(**{'background-color': 'black',\n",
    "                           'color': 'lawngreen',\n",
    "                           'border-color': 'white'})"
   ]
  },
  {
   "cell_type": "markdown",
   "metadata": {},
   "source": [
    "======================================================================================================================"
   ]
  },
  {
   "cell_type": "markdown",
   "metadata": {},
   "source": [
    "### Observations"
   ]
  },
  {
   "cell_type": "markdown",
   "metadata": {},
   "source": [
    "    As per the Game's purchasing data, Eighty-one percent of men made a purchase, compared to 17% of women indicating that the game is more popular among the male demographics. \n",
    "\n",
    "    Those consumers aged 20 to 24, remain the key age demographic for pymoli, spending more money than any other age group.\n",
    "    \n",
    "    Those consumers aged 40 and above remain the age group purchasing high value items."
   ]
  },
  {
   "cell_type": "code",
   "execution_count": null,
   "metadata": {
    "collapsed": true
   },
   "outputs": [],
   "source": []
  }
 ],
 "metadata": {
  "kernelspec": {
   "display_name": "Python 3",
   "language": "python",
   "name": "python3"
  },
  "language_info": {
   "codemirror_mode": {
    "name": "ipython",
    "version": 3
   },
   "file_extension": ".py",
   "mimetype": "text/x-python",
   "name": "python",
   "nbconvert_exporter": "python",
   "pygments_lexer": "ipython3",
   "version": "3.6.2"
  }
 },
 "nbformat": 4,
 "nbformat_minor": 2
}
